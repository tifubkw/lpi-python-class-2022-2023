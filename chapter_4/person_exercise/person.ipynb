{
 "cells": [
  {
   "cell_type": "code",
   "execution_count": 1,
   "id": "a069993f-caab-4951-b2d9-05f3da372ddb",
   "metadata": {},
   "outputs": [
    {
     "name": "stdout",
     "output_type": "stream",
     "text": [
      "Alex Smith\n",
      "USA\n"
     ]
    }
   ],
   "source": [
    "from person.person import Person, CatholicPriest\n",
    "import datetime\n",
    "\n",
    "person_1 = Person(\"John\", \"Smith\", \"M\", [], date_of_birth=datetime.date(2000, 2, 2))\n",
    "person_2 = Person(\"John\", \"Bryant\", \"M\", [], date_of_birth=datetime.date(1999, 2, 7))\n",
    "response = person_1.procreate(person_2, \"Alex\", country=\"USA\")\n",
    "\n",
    "print(response)\n",
    "print(response.country)"
   ]
  },
  {
   "cell_type": "code",
   "execution_count": 3,
   "id": "e1f44eab-37f1-420d-be76-2ba3e9e2dac6",
   "metadata": {},
   "outputs": [
    {
     "name": "stdout",
     "output_type": "stream",
     "text": [
      "Paris church\n"
     ]
    }
   ],
   "source": [
    "from person.person import Person, CatholicPriest\n",
    "import datetime\n",
    "\n",
    "person_2 = CatholicPriest(\"John\", \"Bryant\", \"M\", [], date_of_birth=datetime.date(1999, 2, 7), church=\"Paris church\")\n",
    "print(person_2.church)"
   ]
  },
  {
   "cell_type": "code",
   "execution_count": null,
   "id": "36ac41ce-43e0-482a-8758-50cbc4a681aa",
   "metadata": {},
   "outputs": [],
   "source": []
  },
  {
   "cell_type": "code",
   "execution_count": null,
   "id": "9f1ab577-f791-4d37-bec0-699ed922853a",
   "metadata": {},
   "outputs": [],
   "source": []
  }
 ],
 "metadata": {
  "kernelspec": {
   "display_name": "Python 3 (ipykernel)",
   "language": "python",
   "name": "python3"
  },
  "language_info": {
   "codemirror_mode": {
    "name": "ipython",
    "version": 3
   },
   "file_extension": ".py",
   "mimetype": "text/x-python",
   "name": "python",
   "nbconvert_exporter": "python",
   "pygments_lexer": "ipython3",
   "version": "3.10.4"
  }
 },
 "nbformat": 4,
 "nbformat_minor": 5
}
