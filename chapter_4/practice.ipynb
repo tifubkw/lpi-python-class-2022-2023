{
 "cells": [
  {
   "cell_type": "code",
   "execution_count": 7,
   "metadata": {},
   "outputs": [],
   "source": [
    "# Create an instance of the class \"Cat\"\n",
    "class Cat:\n",
    "    pass\n",
    "\n",
    "kitty = Cat()\n",
    "\n",
    "assert isinstance(kitty, Cat)"
   ]
  },
  {
   "cell_type": "code",
   "execution_count": 14,
   "metadata": {},
   "outputs": [],
   "source": [
    "# Change the value of the attribute\n",
    "class Cat:\n",
    "    def __init__(self):\n",
    "        self.age = 0\n",
    "\n",
    "\n",
    "cat_1 = Cat()\n",
    "cat_1.age += 1\n",
    "\n",
    "assert cat_1.age == 1"
   ]
  },
  {
   "cell_type": "code",
   "execution_count": 33,
   "metadata": {},
   "outputs": [
    {
     "name": "stdout",
     "output_type": "stream",
     "text": [
      "Meow, I am 0 years old!\n",
      "Meow, I am 5 years old!\n"
     ]
    }
   ],
   "source": [
    "# Create a method called \"meow\" that will make the assertion correct\n",
    "class Cat:\n",
    "    def __init__(self):\n",
    "        self.age = 0\n",
    "\n",
    "    def meow(self):\n",
    "        return f\"Meow, I am {self.age} years old!\"\n",
    "\n",
    "\n",
    "cat_1 = Cat()\n",
    "cat_2 = Cat()\n",
    "\n",
    "cat_2.age += 5\n",
    "\n",
    "\n",
    "result = cat_1.meow()\n",
    "print(result)\n",
    "result = cat_2.meow()\n",
    "print(result)\n",
    "assert result == \"Meow!\""
   ]
  },
  {
   "cell_type": "code",
   "execution_count": 46,
   "metadata": {},
   "outputs": [
    {
     "data": {
      "text/plain": [
       "'Meow, I am 0 years old!'"
      ]
     },
     "execution_count": 46,
     "metadata": {},
     "output_type": "execute_result"
    }
   ],
   "source": [
    "class Cat:\n",
    "    def __init__(self):\n",
    "        self.age = 0\n",
    "    \n",
    "    def meow(self):\n",
    "        return f\"Meow, I am {self.age} years old!\"\n",
    "\n",
    "cat = Cat()\n",
    "cat.meow()\n"
   ]
  },
  {
   "cell_type": "code",
   "execution_count": 64,
   "metadata": {},
   "outputs": [],
   "source": [
    "# Create a class method called \"simple_cat_fact\" that will make the assertion correct\n",
    "class Cat:\n",
    "\n",
    "    @classmethod\n",
    "    def simple_cat_fact(cls):\n",
    "        return f\"{cls.__name__}s are great!\"\n",
    "\n",
    "result = Cat.simple_cat_fact()\n",
    "assert result == \"Cats are great!\""
   ]
  },
  {
   "cell_type": "code",
   "execution_count": 5,
   "metadata": {},
   "outputs": [],
   "source": [
    "# Create a method called \"get_breed\" that returns the attribute \"breed\"\n",
    "# Do not directly return the expected value, the method must work even if the attribute's value changes\n",
    "class Cat:\n",
    "    def __init__(self):\n",
    "        self.breed = \"Ragdoll\"\n",
    "    \n",
    "    def get_breed(self):\n",
    "        return f\"This cat's breed is : {self.breed}\"\n",
    "\n",
    "\n",
    "instance = Cat()\n",
    "result = instance.get_breed()\n",
    "\n",
    "assert result == \"This cat's breed is : Ragdoll\""
   ]
  },
  {
   "cell_type": "code",
   "execution_count": 68,
   "metadata": {},
   "outputs": [],
   "source": [
    "# Create a class method called \"get_natural_enemy\" that returns the class attribute \"natural_enemy\"\n",
    "# Do not directly return the expected value, the method must work even if the attribute's value changes\n",
    "class Cat:\n",
    "    natural_enemy = \"Dog\"\n",
    "    \n",
    "    @classmethod\n",
    "    def get_natural_enemy(cls):\n",
    "        return f\"The natural enemy of Cat is : {cls.natural_enemy}\"\n",
    "    \n",
    "assert Cat.get_natural_enemy() == \"The natural enemy of Cat is : Dog\""
   ]
  },
  {
   "cell_type": "code",
   "execution_count": 70,
   "metadata": {},
   "outputs": [],
   "source": [
    "# Modify the __init__ method so that it accepts two arguments and creates two attributes with them\n",
    "class Cat:\n",
    "    def __init__(self, breed, age=0):\n",
    "        self.age = age\n",
    "        self.breed = breed\n",
    "\n",
    "\n",
    "instance = Cat(\"Siamese\", 5)\n",
    "\n",
    "assert instance.breed == \"Siamese\"\n",
    "assert instance.age == 5"
   ]
  },
  {
   "cell_type": "code",
   "execution_count": 76,
   "metadata": {},
   "outputs": [
    {
     "name": "stdout",
     "output_type": "stream",
     "text": [
      "I am getting my value\n",
      "1\n",
      "You can't change this value\n",
      "I am getting my value\n",
      "1\n"
     ]
    }
   ],
   "source": [
    "class MyFirstClass:\n",
    "    def __init__(self):\n",
    "        self._my_protected_attribute = 1\n",
    "\n",
    "    def _get_my_protected_attribute(self):\n",
    "        print(\"I am getting my value\")\n",
    "        return self._my_protected_attribute\n",
    "\n",
    "    def _set_my_protected_attribute(self, new_value):\n",
    "        print(\"You can't change this value\")\n",
    "\n",
    "    my_protected_attribute = property(_get_my_protected_attribute, _set_my_protected_attribute)\n",
    "\n",
    "              \n",
    "instance = MyFirstClass()\n",
    "print(instance.my_protected_attribute)\n",
    "instance.my_protected_attribute = 2\n",
    "print(instance.my_protected_attribute)"
   ]
  },
  {
   "cell_type": "code",
   "execution_count": 1,
   "metadata": {},
   "outputs": [
    {
     "ename": "TypeError",
     "evalue": "A name has to be a string",
     "output_type": "error",
     "traceback": [
      "\u001b[0;31m---------------------------------------------------------------------------\u001b[0m",
      "\u001b[0;31mTypeError\u001b[0m                                 Traceback (most recent call last)",
      "Cell \u001b[0;32mIn[1], line 26\u001b[0m\n\u001b[1;32m     23\u001b[0m \u001b[39massert\u001b[39;00m instance\u001b[39m.\u001b[39mtimes_renamed \u001b[39m==\u001b[39m \u001b[39m0\u001b[39m\n\u001b[1;32m     24\u001b[0m \u001b[39massert\u001b[39;00m instance\u001b[39m.\u001b[39mname \u001b[39m==\u001b[39m \u001b[39m\"\u001b[39m\u001b[39mThis cat\u001b[39m\u001b[39m'\u001b[39m\u001b[39ms name is : Kitty\u001b[39m\u001b[39m\"\u001b[39m\n\u001b[0;32m---> 26\u001b[0m instance\u001b[39m.\u001b[39;49mname \u001b[39m=\u001b[39m \u001b[39m1\u001b[39m\n\u001b[1;32m     28\u001b[0m \u001b[39massert\u001b[39;00m instance\u001b[39m.\u001b[39mtimes_renamed \u001b[39m==\u001b[39m \u001b[39m1\u001b[39m\n\u001b[1;32m     29\u001b[0m \u001b[39m# assert instance.name == \"This cat's name is : Cookie\"\u001b[39;00m\n",
      "Cell \u001b[0;32mIn[1], line 10\u001b[0m, in \u001b[0;36mCat._set_name\u001b[0;34m(self, new_name)\u001b[0m\n\u001b[1;32m      8\u001b[0m \u001b[39mdef\u001b[39;00m \u001b[39m_set_name\u001b[39m(\u001b[39mself\u001b[39m, new_name):\n\u001b[1;32m      9\u001b[0m     \u001b[39mif\u001b[39;00m \u001b[39mnot\u001b[39;00m \u001b[39misinstance\u001b[39m(new_name, \u001b[39mstr\u001b[39m):\n\u001b[0;32m---> 10\u001b[0m         \u001b[39mraise\u001b[39;00m \u001b[39mTypeError\u001b[39;00m(\u001b[39m\"\u001b[39m\u001b[39mA name has to be a string\u001b[39m\u001b[39m\"\u001b[39m)\n\u001b[1;32m     11\u001b[0m     \u001b[39mself\u001b[39m\u001b[39m.\u001b[39m_name \u001b[39m=\u001b[39m new_name\n\u001b[1;32m     12\u001b[0m     \u001b[39mself\u001b[39m\u001b[39m.\u001b[39mtimes_renamed \u001b[39m+\u001b[39m\u001b[39m=\u001b[39m \u001b[39m1\u001b[39m\n",
      "\u001b[0;31mTypeError\u001b[0m: A name has to be a string"
     ]
    }
   ],
   "source": [
    "# Modify the __init__ method so that it accepts an argument that will give \"_my_attribute\" its value\n",
    "# Modify the getter and setter of the \"my_attribute\" property to make the assertions correct\n",
    "class Cat:\n",
    "    def __init__(self, initial_name):\n",
    "        self.times_renamed = 0\n",
    "        self._name = initial_name\n",
    "\n",
    "    def _set_name(self, new_name):\n",
    "        if not isinstance(new_name, str):\n",
    "            raise TypeError(\"A name has to be a string\")\n",
    "        self._name = new_name\n",
    "        self.times_renamed += 1\n",
    "\n",
    "    def _get_name(self):\n",
    "        return f\"This cat's name is : {self._name}\"\n",
    "\n",
    "    name = property(_get_name, _set_name)\n",
    "    \n",
    "\n",
    "\n",
    "instance = Cat(\"Kitty\")\n",
    "\n",
    "assert instance.times_renamed == 0\n",
    "assert instance.name == \"This cat's name is : Kitty\"\n",
    "\n",
    "instance.name = 1\n",
    "\n",
    "assert instance.times_renamed == 1\n",
    "# assert instance.name == \"This cat's name is : Cookie\""
   ]
  }
 ],
 "metadata": {
  "kernelspec": {
   "display_name": "Python 3 (ipykernel)",
   "language": "python",
   "name": "python3"
  },
  "language_info": {
   "codemirror_mode": {
    "name": "ipython",
    "version": 3
   },
   "file_extension": ".py",
   "mimetype": "text/x-python",
   "name": "python",
   "nbconvert_exporter": "python",
   "pygments_lexer": "ipython3",
   "version": "3.10.4"
  },
  "vscode": {
   "interpreter": {
    "hash": "1a1af0ee75eeea9e2e1ee996c87e7a2b11a0bebd85af04bb136d915cefc0abce"
   }
  }
 },
 "nbformat": 4,
 "nbformat_minor": 4
}
