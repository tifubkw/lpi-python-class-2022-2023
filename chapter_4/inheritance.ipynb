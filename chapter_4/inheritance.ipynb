{
 "cells": [
  {
   "cell_type": "markdown",
   "metadata": {},
   "source": [
    "### Simple Inheritance\n",
    "\n",
    "Simple inheritance is used with the following syntax : \n",
    "\n",
    "```\n",
    "class ChildClass(ParentClass):\n",
    "    ...\n",
    "```\n",
    "\n",
    "The child class will have the attributes and methods of the parent class, which can all be overriden.\n",
    "\n",
    "When calling a method, the interpreter will look into the child class first, and then in the parent class if it doesn't find the method in the child class."
   ]
  },
  {
   "cell_type": "code",
   "execution_count": 1,
   "metadata": {},
   "outputs": [
    {
     "name": "stdout",
     "output_type": "stream",
     "text": [
      "Hello from class A\n"
     ]
    }
   ],
   "source": [
    "class ClassA:\n",
    "    def hello(self):\n",
    "        print(\"Hello from class A\")\n",
    "\n",
    "class ClassB(ClassA):\n",
    "    pass\n",
    "\n",
    "instance = ClassB()\n",
    "instance.hello()"
   ]
  },
  {
   "cell_type": "code",
   "execution_count": 2,
   "metadata": {},
   "outputs": [
    {
     "name": "stdout",
     "output_type": "stream",
     "text": [
      "Hello from class B\n"
     ]
    }
   ],
   "source": [
    "class ClassA:\n",
    "    def hello(self):\n",
    "        print(\"Hello from class A\")\n",
    "\n",
    "class ClassB(ClassA):\n",
    "    def hello(self):\n",
    "        print(\"Hello from class B\")\n",
    "\n",
    "instance = ClassB()\n",
    "instance.hello()"
   ]
  },
  {
   "cell_type": "markdown",
   "metadata": {},
   "source": [
    "### The super keyword\n",
    "\n",
    "The `super` keyword allows you to call the overwritten method from the parent class, this allows you to add some features without rewriting the whole method."
   ]
  },
  {
   "cell_type": "code",
   "execution_count": 6,
   "metadata": {},
   "outputs": [
    {
     "name": "stdout",
     "output_type": "stream",
     "text": [
      "__init__ from class C\n",
      "__init__ from class B\n",
      "__init__ from class A\n"
     ]
    }
   ],
   "source": [
    "class ClassA:\n",
    "    def __init__(self):\n",
    "        print(\"__init__ from class A\")\n",
    "\n",
    "class ClassB(ClassA):\n",
    "    def __init__(self):\n",
    "        print(\"__init__ from class B\")\n",
    "        super().__init__()\n",
    "        \n",
    "class ClassC(ClassB):\n",
    "    def __init__(self):\n",
    "        print(\"__init__ from class C\")\n",
    "        super().__init__()\n",
    "\n",
    "instance = ClassC()"
   ]
  },
  {
   "cell_type": "code",
   "execution_count": 7,
   "metadata": {},
   "outputs": [
    {
     "name": "stdout",
     "output_type": "stream",
     "text": [
      "__init__ from class B\n",
      "__init__ from class A\n",
      "attribute a :  1\n",
      "attribute b :  2\n",
      "attribute c :  3\n"
     ]
    }
   ],
   "source": [
    "class ClassA:\n",
    "    def __init__(self, a, b):\n",
    "        print(\"__init__ from class A\")\n",
    "        self.a = a\n",
    "        self.b = b\n",
    "\n",
    "class ClassB(ClassA):\n",
    "    def __init__(self, a, b, c):\n",
    "        print(\"__init__ from class B\")\n",
    "        super().__init__(a, b)\n",
    "        self.c = c\n",
    "\n",
    "instance = ClassB(1, 2, 3)\n",
    "print(\"attribute a : \", instance.a)\n",
    "print(\"attribute b : \", instance.b)\n",
    "print(\"attribute c : \", instance.c)"
   ]
  },
  {
   "cell_type": "markdown",
   "metadata": {},
   "source": [
    "### Chained inheritance\n",
    "\n",
    "Inheritance can be chained. It follows the same rules as simple inheritance, but with multiple layers.\n",
    "\n",
    "In the following example, the interpreter will look for the hello method in `ClassC`, then in its parent class `ClassB`, then in its parent class `ClassA`\n",
    "\n",
    "The `super` keyword can also be chained."
   ]
  },
  {
   "cell_type": "code",
   "execution_count": 8,
   "metadata": {},
   "outputs": [
    {
     "name": "stdout",
     "output_type": "stream",
     "text": [
      "Hello from class A\n"
     ]
    }
   ],
   "source": [
    "class ClassA:\n",
    "    def hello(self):\n",
    "        print(\"Hello from class A\")\n",
    "\n",
    "class ClassB(ClassA):\n",
    "    pass\n",
    "\n",
    "class ClassC(ClassB):\n",
    "    pass\n",
    "\n",
    "instance = ClassC()\n",
    "instance.hello()"
   ]
  },
  {
   "cell_type": "code",
   "execution_count": null,
   "metadata": {},
   "outputs": [],
   "source": [
    "class ClassA:\n",
    "    def __init__(self, a, b):\n",
    "        print(\"__init__ from class A\")\n",
    "        self.a = a\n",
    "        self.b = b\n",
    "\n",
    "class ClassB(ClassA):\n",
    "    def __init__(self, a, b, c):\n",
    "        print(\"__init__ from class B\")\n",
    "        super().__init__(a, b)\n",
    "        self.c = c\n",
    "\n",
    "class ClassC(ClassB):\n",
    "    def __init__(self, a, b, c, d):\n",
    "        print(\"__init__ from class C\")\n",
    "        super().__init__(a, b, c)\n",
    "        self.d = d\n",
    "\n",
    "instance = ClassC(1, 2, 3, 4)\n",
    "print(\"attribute a : \", instance.a)\n",
    "print(\"attribute b : \", instance.b)\n",
    "print(\"attribute c : \", instance.c)\n",
    "print(\"attribute d : \", instance.d)"
   ]
  },
  {
   "cell_type": "markdown",
   "metadata": {},
   "source": [
    "### Multiple inheritance\n",
    "\n",
    "One class can inherit from severall classes, this works a bit like the other types of inheritances. The priority rule is that the first parent class that is declared has priority on the others, then the second, then the third, etc.\n",
    "\n",
    "In the example below, the interpreter will look for the **hello** method in `ClassC`, then in `ClassA`, then in `ClassB`."
   ]
  },
  {
   "cell_type": "code",
   "execution_count": 27,
   "metadata": {},
   "outputs": [
    {
     "name": "stdout",
     "output_type": "stream",
     "text": [
      "Hello from class B\n"
     ]
    }
   ],
   "source": [
    "class ClassA:\n",
    "    def hello(self):\n",
    "        print(\"Hello from class A\")\n",
    "\n",
    "\n",
    "class ClassB:\n",
    "    def goodbye(self):\n",
    "        print(\"Goodbye from class B\")\n",
    "        \n",
    "\n",
    "class ClassC:\n",
    "    def hi(self):\n",
    "        print(\"Hi from class C\")\n",
    "\n",
    "\n",
    "class ClassD(ClassA, ClassB, ClassC):\n",
    "    def hello(self):\n",
    "        super(ClassA, self).hello()\n",
    "\n",
    "\n",
    "instance = ClassD()\n",
    "instance.hello()"
   ]
  }
 ],
 "metadata": {
  "kernelspec": {
   "display_name": "Python 3 (ipykernel)",
   "language": "python",
   "name": "python3"
  },
  "language_info": {
   "codemirror_mode": {
    "name": "ipython",
    "version": 3
   },
   "file_extension": ".py",
   "mimetype": "text/x-python",
   "name": "python",
   "nbconvert_exporter": "python",
   "pygments_lexer": "ipython3",
   "version": "3.10.4"
  },
  "vscode": {
   "interpreter": {
    "hash": "1a1af0ee75eeea9e2e1ee996c87e7a2b11a0bebd85af04bb136d915cefc0abce"
   }
  }
 },
 "nbformat": 4,
 "nbformat_minor": 4
}
